{
 "cells": [
  {
   "cell_type": "markdown",
   "id": "e96ab01b",
   "metadata": {},
   "source": [
    "# This model classifies a person as having a cardiovascular disease or not."
   ]
  },
  {
   "cell_type": "markdown",
   "id": "fba66435",
   "metadata": {},
   "source": [
    "# Importing all the required libraries"
   ]
  },
  {
   "cell_type": "code",
   "execution_count": 118,
   "id": "f7bb4640",
   "metadata": {},
   "outputs": [],
   "source": [
    "#Pandas is a python library used for data analysis.\n",
    "#It is used to create a dataframe that is a 2D data structure similar to excel sheet\n",
    "import pandas as pd"
   ]
  },
  {
   "cell_type": "code",
   "execution_count": 119,
   "id": "494a5d82",
   "metadata": {},
   "outputs": [],
   "source": [
    "#Numpy is a python library used to handle multidimensional arrays\n",
    "import numpy as np"
   ]
  },
  {
   "cell_type": "code",
   "execution_count": 120,
   "id": "78ad3f3d",
   "metadata": {},
   "outputs": [],
   "source": [
    "#Matplotlib ia 2D plotting library for creating plots and graphs\n",
    "import matplotlib.pyplot as plt"
   ]
  },
  {
   "cell_type": "code",
   "execution_count": 121,
   "id": "11a07441",
   "metadata": {},
   "outputs": [],
   "source": [
    "#Seaborn is a Python data visualization library based on matplotlib.\n",
    "#It provides a high-level interface for drawing attractive and informative statistical graphics.\n",
    "import seaborn as sns"
   ]
  },
  {
   "cell_type": "code",
   "execution_count": 122,
   "id": "7421b355",
   "metadata": {},
   "outputs": [],
   "source": [
    "from sklearn.model_selection import train_test_split\n",
    "from sklearn.preprocessing import StandardScaler\n",
    "from sklearn.ensemble import RandomForestClassifier\n",
    "from sklearn.tree import DecisionTreeClassifier\n",
    "from sklearn.neighbors import KNeighborsClassifier\n",
    "from sklearn.metrics import accuracy_score\n",
    "from sklearn.metrics import confusion_matrix"
   ]
  },
  {
   "cell_type": "code",
   "execution_count": 123,
   "id": "46a5dc8a",
   "metadata": {},
   "outputs": [],
   "source": [
    "#Ingore the warnings\n",
    "import warnings\n",
    "warnings.filterwarnings('ignore')"
   ]
  },
  {
   "cell_type": "markdown",
   "id": "6705b29c",
   "metadata": {},
   "source": [
    "# Step-1:Load the dataset"
   ]
  },
  {
   "cell_type": "code",
   "execution_count": 124,
   "id": "a53591c1",
   "metadata": {},
   "outputs": [
    {
     "data": {
      "text/html": [
       "<div>\n",
       "<style scoped>\n",
       "    .dataframe tbody tr th:only-of-type {\n",
       "        vertical-align: middle;\n",
       "    }\n",
       "\n",
       "    .dataframe tbody tr th {\n",
       "        vertical-align: top;\n",
       "    }\n",
       "\n",
       "    .dataframe thead th {\n",
       "        text-align: right;\n",
       "    }\n",
       "</style>\n",
       "<table border=\"1\" class=\"dataframe\">\n",
       "  <thead>\n",
       "    <tr style=\"text-align: right;\">\n",
       "      <th></th>\n",
       "      <th>age</th>\n",
       "      <th>sex</th>\n",
       "      <th>chest_pain</th>\n",
       "      <th>blood_pressure</th>\n",
       "      <th>cholesterol</th>\n",
       "      <th>blood_sugar</th>\n",
       "      <th>restecg</th>\n",
       "      <th>thalach</th>\n",
       "      <th>exang</th>\n",
       "      <th>oldpeak</th>\n",
       "      <th>slope</th>\n",
       "      <th>vessels</th>\n",
       "      <th>thal</th>\n",
       "      <th>target</th>\n",
       "      <th>health_status</th>\n",
       "      <th>gender</th>\n",
       "    </tr>\n",
       "  </thead>\n",
       "  <tbody>\n",
       "    <tr>\n",
       "      <th>0</th>\n",
       "      <td>63</td>\n",
       "      <td>1</td>\n",
       "      <td>3</td>\n",
       "      <td>145</td>\n",
       "      <td>233</td>\n",
       "      <td>1</td>\n",
       "      <td>0</td>\n",
       "      <td>150</td>\n",
       "      <td>0</td>\n",
       "      <td>2.3</td>\n",
       "      <td>0</td>\n",
       "      <td>0</td>\n",
       "      <td>1</td>\n",
       "      <td>1</td>\n",
       "      <td>sick</td>\n",
       "      <td>M</td>\n",
       "    </tr>\n",
       "    <tr>\n",
       "      <th>1</th>\n",
       "      <td>37</td>\n",
       "      <td>1</td>\n",
       "      <td>2</td>\n",
       "      <td>130</td>\n",
       "      <td>250</td>\n",
       "      <td>0</td>\n",
       "      <td>1</td>\n",
       "      <td>187</td>\n",
       "      <td>0</td>\n",
       "      <td>3.5</td>\n",
       "      <td>0</td>\n",
       "      <td>0</td>\n",
       "      <td>2</td>\n",
       "      <td>1</td>\n",
       "      <td>sick</td>\n",
       "      <td>M</td>\n",
       "    </tr>\n",
       "    <tr>\n",
       "      <th>2</th>\n",
       "      <td>41</td>\n",
       "      <td>0</td>\n",
       "      <td>1</td>\n",
       "      <td>130</td>\n",
       "      <td>204</td>\n",
       "      <td>0</td>\n",
       "      <td>0</td>\n",
       "      <td>172</td>\n",
       "      <td>0</td>\n",
       "      <td>1.4</td>\n",
       "      <td>2</td>\n",
       "      <td>0</td>\n",
       "      <td>2</td>\n",
       "      <td>1</td>\n",
       "      <td>sick</td>\n",
       "      <td>F</td>\n",
       "    </tr>\n",
       "    <tr>\n",
       "      <th>3</th>\n",
       "      <td>56</td>\n",
       "      <td>1</td>\n",
       "      <td>1</td>\n",
       "      <td>120</td>\n",
       "      <td>236</td>\n",
       "      <td>0</td>\n",
       "      <td>1</td>\n",
       "      <td>178</td>\n",
       "      <td>0</td>\n",
       "      <td>0.8</td>\n",
       "      <td>2</td>\n",
       "      <td>0</td>\n",
       "      <td>2</td>\n",
       "      <td>1</td>\n",
       "      <td>sick</td>\n",
       "      <td>M</td>\n",
       "    </tr>\n",
       "    <tr>\n",
       "      <th>4</th>\n",
       "      <td>57</td>\n",
       "      <td>0</td>\n",
       "      <td>0</td>\n",
       "      <td>120</td>\n",
       "      <td>354</td>\n",
       "      <td>0</td>\n",
       "      <td>1</td>\n",
       "      <td>163</td>\n",
       "      <td>1</td>\n",
       "      <td>0.6</td>\n",
       "      <td>2</td>\n",
       "      <td>0</td>\n",
       "      <td>2</td>\n",
       "      <td>1</td>\n",
       "      <td>sick</td>\n",
       "      <td>F</td>\n",
       "    </tr>\n",
       "    <tr>\n",
       "      <th>...</th>\n",
       "      <td>...</td>\n",
       "      <td>...</td>\n",
       "      <td>...</td>\n",
       "      <td>...</td>\n",
       "      <td>...</td>\n",
       "      <td>...</td>\n",
       "      <td>...</td>\n",
       "      <td>...</td>\n",
       "      <td>...</td>\n",
       "      <td>...</td>\n",
       "      <td>...</td>\n",
       "      <td>...</td>\n",
       "      <td>...</td>\n",
       "      <td>...</td>\n",
       "      <td>...</td>\n",
       "      <td>...</td>\n",
       "    </tr>\n",
       "    <tr>\n",
       "      <th>298</th>\n",
       "      <td>57</td>\n",
       "      <td>0</td>\n",
       "      <td>0</td>\n",
       "      <td>140</td>\n",
       "      <td>241</td>\n",
       "      <td>0</td>\n",
       "      <td>1</td>\n",
       "      <td>123</td>\n",
       "      <td>1</td>\n",
       "      <td>0.2</td>\n",
       "      <td>1</td>\n",
       "      <td>0</td>\n",
       "      <td>3</td>\n",
       "      <td>0</td>\n",
       "      <td>healthy</td>\n",
       "      <td>F</td>\n",
       "    </tr>\n",
       "    <tr>\n",
       "      <th>299</th>\n",
       "      <td>45</td>\n",
       "      <td>1</td>\n",
       "      <td>3</td>\n",
       "      <td>110</td>\n",
       "      <td>264</td>\n",
       "      <td>0</td>\n",
       "      <td>1</td>\n",
       "      <td>132</td>\n",
       "      <td>0</td>\n",
       "      <td>1.2</td>\n",
       "      <td>1</td>\n",
       "      <td>0</td>\n",
       "      <td>3</td>\n",
       "      <td>0</td>\n",
       "      <td>healthy</td>\n",
       "      <td>M</td>\n",
       "    </tr>\n",
       "    <tr>\n",
       "      <th>300</th>\n",
       "      <td>68</td>\n",
       "      <td>1</td>\n",
       "      <td>0</td>\n",
       "      <td>144</td>\n",
       "      <td>193</td>\n",
       "      <td>1</td>\n",
       "      <td>1</td>\n",
       "      <td>141</td>\n",
       "      <td>0</td>\n",
       "      <td>3.4</td>\n",
       "      <td>1</td>\n",
       "      <td>2</td>\n",
       "      <td>3</td>\n",
       "      <td>0</td>\n",
       "      <td>healthy</td>\n",
       "      <td>M</td>\n",
       "    </tr>\n",
       "    <tr>\n",
       "      <th>301</th>\n",
       "      <td>57</td>\n",
       "      <td>1</td>\n",
       "      <td>0</td>\n",
       "      <td>130</td>\n",
       "      <td>131</td>\n",
       "      <td>0</td>\n",
       "      <td>1</td>\n",
       "      <td>115</td>\n",
       "      <td>1</td>\n",
       "      <td>1.2</td>\n",
       "      <td>1</td>\n",
       "      <td>1</td>\n",
       "      <td>3</td>\n",
       "      <td>0</td>\n",
       "      <td>healthy</td>\n",
       "      <td>M</td>\n",
       "    </tr>\n",
       "    <tr>\n",
       "      <th>302</th>\n",
       "      <td>57</td>\n",
       "      <td>0</td>\n",
       "      <td>1</td>\n",
       "      <td>130</td>\n",
       "      <td>236</td>\n",
       "      <td>0</td>\n",
       "      <td>0</td>\n",
       "      <td>174</td>\n",
       "      <td>0</td>\n",
       "      <td>0.0</td>\n",
       "      <td>1</td>\n",
       "      <td>1</td>\n",
       "      <td>2</td>\n",
       "      <td>0</td>\n",
       "      <td>healthy</td>\n",
       "      <td>F</td>\n",
       "    </tr>\n",
       "  </tbody>\n",
       "</table>\n",
       "<p>303 rows × 16 columns</p>\n",
       "</div>"
      ],
      "text/plain": [
       "     age  sex  chest_pain  blood_pressure  cholesterol  blood_sugar  restecg  \\\n",
       "0     63    1           3             145          233            1        0   \n",
       "1     37    1           2             130          250            0        1   \n",
       "2     41    0           1             130          204            0        0   \n",
       "3     56    1           1             120          236            0        1   \n",
       "4     57    0           0             120          354            0        1   \n",
       "..   ...  ...         ...             ...          ...          ...      ...   \n",
       "298   57    0           0             140          241            0        1   \n",
       "299   45    1           3             110          264            0        1   \n",
       "300   68    1           0             144          193            1        1   \n",
       "301   57    1           0             130          131            0        1   \n",
       "302   57    0           1             130          236            0        0   \n",
       "\n",
       "     thalach  exang  oldpeak  slope  vessels  thal  target health_status  \\\n",
       "0        150      0      2.3      0        0     1       1          sick   \n",
       "1        187      0      3.5      0        0     2       1          sick   \n",
       "2        172      0      1.4      2        0     2       1          sick   \n",
       "3        178      0      0.8      2        0     2       1          sick   \n",
       "4        163      1      0.6      2        0     2       1          sick   \n",
       "..       ...    ...      ...    ...      ...   ...     ...           ...   \n",
       "298      123      1      0.2      1        0     3       0       healthy   \n",
       "299      132      0      1.2      1        0     3       0       healthy   \n",
       "300      141      0      3.4      1        2     3       0       healthy   \n",
       "301      115      1      1.2      1        1     3       0       healthy   \n",
       "302      174      0      0.0      1        1     2       0       healthy   \n",
       "\n",
       "    gender  \n",
       "0        M  \n",
       "1        M  \n",
       "2        F  \n",
       "3        M  \n",
       "4        F  \n",
       "..     ...  \n",
       "298      F  \n",
       "299      M  \n",
       "300      M  \n",
       "301      M  \n",
       "302      F  \n",
       "\n",
       "[303 rows x 16 columns]"
      ]
     },
     "execution_count": 124,
     "metadata": {},
     "output_type": "execute_result"
    }
   ],
   "source": [
    "#Import and store data in a variable\n",
    "df=pd.read_csv('heart.csv')\n",
    "\n",
    "#Renaming certain columns for easy understanding\n",
    "df = df.rename(columns={\"cp\": \"chest_pain\", \"trestbps\": \"blood_pressure\", \"fbs\": \"blood_sugar\", \"ca\": \"vessels\", \"chol\": \"cholesterol\"})\n",
    "df['health_status'] = df['target']\n",
    "df['health_status'] = [\"healthy\" if x == 0 else \"sick\" for x in df['health_status']]\n",
    "df['gender'] = df['sex']\n",
    "df['gender'] = ['F' if x == 0 else 'M' for x in df['gender']]\n",
    "#Print the data\n",
    "df"
   ]
  },
  {
   "cell_type": "markdown",
   "id": "70cce10d",
   "metadata": {},
   "source": [
    "# Know your dataset"
   ]
  },
  {
   "cell_type": "raw",
   "id": "6589e15c",
   "metadata": {},
   "source": [
    "1.age\n",
    "2.sex (1= male; 0=female)\n",
    "3.chest pain type (4 values)\n",
    "4.resting blood pressure\n",
    "5.serum cholestoral in mg/dl\n",
    "6.fasting blood sugar > 120 mg/dl\n",
    "7.resting electrocardiographic results (values 0,1,2)\n",
    "8.maximum heart rate achieved\n",
    "9.exercise induced angina\n",
    "10.oldpeak = ST depression induced by exercise relative to rest\n",
    "11.the slope of the peak exercise ST segment\n",
    "12.number of major vessels (0-3) colored by flourosopy\n",
    "13.thal: 3 = normal; 6 = fixed defect; 7 = reversable defect (thallium heart scan or stress test)\n",
    "14.target (0 = no heart disease; 1 = heart disease)"
   ]
  },
  {
   "cell_type": "markdown",
   "id": "20c117e3",
   "metadata": {},
   "source": [
    "# Size of dataset"
   ]
  },
  {
   "cell_type": "code",
   "execution_count": 125,
   "id": "b704c6de",
   "metadata": {},
   "outputs": [
    {
     "data": {
      "text/plain": [
       "(303, 16)"
      ]
     },
     "execution_count": 125,
     "metadata": {},
     "output_type": "execute_result"
    }
   ],
   "source": [
    "#Get the dimension of data\n",
    "df.shape"
   ]
  },
  {
   "cell_type": "code",
   "execution_count": 126,
   "id": "cbc5f068",
   "metadata": {},
   "outputs": [],
   "source": [
    "# data has 16 columns and 303 rows"
   ]
  },
  {
   "cell_type": "markdown",
   "id": "231af630",
   "metadata": {},
   "source": [
    "# Datatype of dataset"
   ]
  },
  {
   "cell_type": "code",
   "execution_count": 127,
   "id": "b01dbfdd",
   "metadata": {},
   "outputs": [
    {
     "data": {
      "text/plain": [
       "age                 int64\n",
       "sex                 int64\n",
       "chest_pain          int64\n",
       "blood_pressure      int64\n",
       "cholesterol         int64\n",
       "blood_sugar         int64\n",
       "restecg             int64\n",
       "thalach             int64\n",
       "exang               int64\n",
       "oldpeak           float64\n",
       "slope               int64\n",
       "vessels             int64\n",
       "thal                int64\n",
       "target              int64\n",
       "health_status      object\n",
       "gender             object\n",
       "dtype: object"
      ]
     },
     "execution_count": 127,
     "metadata": {},
     "output_type": "execute_result"
    }
   ],
   "source": [
    "df.dtypes"
   ]
  },
  {
   "cell_type": "markdown",
   "id": "b24c4315",
   "metadata": {},
   "source": [
    "# Step-2:Clean or Preprocess the data(remove duplicates,irrelevant,incomplete data)"
   ]
  },
  {
   "cell_type": "markdown",
   "id": "6b9e66bc",
   "metadata": {},
   "source": [
    "# Find and know duplicates "
   ]
  },
  {
   "cell_type": "code",
   "execution_count": 128,
   "id": "aab665cf",
   "metadata": {},
   "outputs": [
    {
     "data": {
      "text/html": [
       "<div>\n",
       "<style scoped>\n",
       "    .dataframe tbody tr th:only-of-type {\n",
       "        vertical-align: middle;\n",
       "    }\n",
       "\n",
       "    .dataframe tbody tr th {\n",
       "        vertical-align: top;\n",
       "    }\n",
       "\n",
       "    .dataframe thead th {\n",
       "        text-align: right;\n",
       "    }\n",
       "</style>\n",
       "<table border=\"1\" class=\"dataframe\">\n",
       "  <thead>\n",
       "    <tr style=\"text-align: right;\">\n",
       "      <th></th>\n",
       "      <th>age</th>\n",
       "      <th>sex</th>\n",
       "      <th>chest_pain</th>\n",
       "      <th>blood_pressure</th>\n",
       "      <th>cholesterol</th>\n",
       "      <th>blood_sugar</th>\n",
       "      <th>restecg</th>\n",
       "      <th>thalach</th>\n",
       "      <th>exang</th>\n",
       "      <th>oldpeak</th>\n",
       "      <th>slope</th>\n",
       "      <th>vessels</th>\n",
       "      <th>thal</th>\n",
       "      <th>target</th>\n",
       "      <th>health_status</th>\n",
       "      <th>gender</th>\n",
       "    </tr>\n",
       "  </thead>\n",
       "  <tbody>\n",
       "    <tr>\n",
       "      <th>163</th>\n",
       "      <td>38</td>\n",
       "      <td>1</td>\n",
       "      <td>2</td>\n",
       "      <td>138</td>\n",
       "      <td>175</td>\n",
       "      <td>0</td>\n",
       "      <td>1</td>\n",
       "      <td>173</td>\n",
       "      <td>0</td>\n",
       "      <td>0.0</td>\n",
       "      <td>2</td>\n",
       "      <td>4</td>\n",
       "      <td>2</td>\n",
       "      <td>1</td>\n",
       "      <td>sick</td>\n",
       "      <td>M</td>\n",
       "    </tr>\n",
       "    <tr>\n",
       "      <th>164</th>\n",
       "      <td>38</td>\n",
       "      <td>1</td>\n",
       "      <td>2</td>\n",
       "      <td>138</td>\n",
       "      <td>175</td>\n",
       "      <td>0</td>\n",
       "      <td>1</td>\n",
       "      <td>173</td>\n",
       "      <td>0</td>\n",
       "      <td>0.0</td>\n",
       "      <td>2</td>\n",
       "      <td>4</td>\n",
       "      <td>2</td>\n",
       "      <td>1</td>\n",
       "      <td>sick</td>\n",
       "      <td>M</td>\n",
       "    </tr>\n",
       "  </tbody>\n",
       "</table>\n",
       "</div>"
      ],
      "text/plain": [
       "     age  sex  chest_pain  blood_pressure  cholesterol  blood_sugar  restecg  \\\n",
       "163   38    1           2             138          175            0        1   \n",
       "164   38    1           2             138          175            0        1   \n",
       "\n",
       "     thalach  exang  oldpeak  slope  vessels  thal  target health_status  \\\n",
       "163      173      0      0.0      2        4     2       1          sick   \n",
       "164      173      0      0.0      2        4     2       1          sick   \n",
       "\n",
       "    gender  \n",
       "163      M  \n",
       "164      M  "
      ]
     },
     "execution_count": 128,
     "metadata": {},
     "output_type": "execute_result"
    }
   ],
   "source": [
    "df[df.duplicated(keep=False)]"
   ]
  },
  {
   "cell_type": "markdown",
   "id": "1f9c0847",
   "metadata": {},
   "source": [
    "# Drop duplicates"
   ]
  },
  {
   "cell_type": "code",
   "execution_count": 129,
   "id": "4a91670e",
   "metadata": {},
   "outputs": [],
   "source": [
    "df = df.drop_duplicates(keep='first')"
   ]
  },
  {
   "cell_type": "markdown",
   "id": "6faed3e5",
   "metadata": {},
   "source": [
    "# Check if dataset has empty values inorder to clean the data "
   ]
  },
  {
   "cell_type": "code",
   "execution_count": 130,
   "id": "bdf1dfe0",
   "metadata": {},
   "outputs": [
    {
     "data": {
      "text/plain": [
       "age               0\n",
       "sex               0\n",
       "chest_pain        0\n",
       "blood_pressure    0\n",
       "cholesterol       0\n",
       "blood_sugar       0\n",
       "restecg           0\n",
       "thalach           0\n",
       "exang             0\n",
       "oldpeak           0\n",
       "slope             0\n",
       "vessels           0\n",
       "thal              0\n",
       "target            0\n",
       "health_status     0\n",
       "gender            0\n",
       "dtype: int64"
      ]
     },
     "execution_count": 130,
     "metadata": {},
     "output_type": "execute_result"
    }
   ],
   "source": [
    "#Clean the data (check for null or empty values in each column)\n",
    "df.isna().sum()"
   ]
  },
  {
   "cell_type": "code",
   "execution_count": 131,
   "id": "f0cc8e8b",
   "metadata": {},
   "outputs": [],
   "source": [
    "#We dont have any missing values"
   ]
  },
  {
   "cell_type": "markdown",
   "id": "15194f67",
   "metadata": {},
   "source": [
    "# Remove irrelevant data"
   ]
  },
  {
   "cell_type": "code",
   "execution_count": 132,
   "id": "53a04fae",
   "metadata": {},
   "outputs": [],
   "source": [
    "#remove gender and health_status column\n",
    "df=df.drop('health_status',axis=1)\n",
    "df=df.drop('gender',axis=1)"
   ]
  },
  {
   "cell_type": "markdown",
   "id": "106631d8",
   "metadata": {},
   "source": [
    "# Size of dataset after preprocessing"
   ]
  },
  {
   "cell_type": "code",
   "execution_count": 133,
   "id": "11e03ab0",
   "metadata": {},
   "outputs": [
    {
     "data": {
      "text/plain": [
       "(302, 14)"
      ]
     },
     "execution_count": 133,
     "metadata": {},
     "output_type": "execute_result"
    }
   ],
   "source": [
    "df.shape"
   ]
  },
  {
   "cell_type": "code",
   "execution_count": 134,
   "id": "fb6710aa",
   "metadata": {},
   "outputs": [],
   "source": [
    "#now only 14 columns and 302 rows are left"
   ]
  },
  {
   "cell_type": "markdown",
   "id": "99cdbd3d",
   "metadata": {},
   "source": [
    "# Analysing the dataset"
   ]
  },
  {
   "cell_type": "code",
   "execution_count": 135,
   "id": "0883c1b3",
   "metadata": {},
   "outputs": [
    {
     "data": {
      "text/html": [
       "<div>\n",
       "<style scoped>\n",
       "    .dataframe tbody tr th:only-of-type {\n",
       "        vertical-align: middle;\n",
       "    }\n",
       "\n",
       "    .dataframe tbody tr th {\n",
       "        vertical-align: top;\n",
       "    }\n",
       "\n",
       "    .dataframe thead th {\n",
       "        text-align: right;\n",
       "    }\n",
       "</style>\n",
       "<table border=\"1\" class=\"dataframe\">\n",
       "  <thead>\n",
       "    <tr style=\"text-align: right;\">\n",
       "      <th></th>\n",
       "      <th>age</th>\n",
       "      <th>sex</th>\n",
       "      <th>chest_pain</th>\n",
       "      <th>blood_pressure</th>\n",
       "      <th>cholesterol</th>\n",
       "      <th>blood_sugar</th>\n",
       "      <th>restecg</th>\n",
       "      <th>thalach</th>\n",
       "      <th>exang</th>\n",
       "      <th>oldpeak</th>\n",
       "      <th>slope</th>\n",
       "      <th>vessels</th>\n",
       "      <th>thal</th>\n",
       "      <th>target</th>\n",
       "    </tr>\n",
       "  </thead>\n",
       "  <tbody>\n",
       "    <tr>\n",
       "      <th>count</th>\n",
       "      <td>302.00000</td>\n",
       "      <td>302.000000</td>\n",
       "      <td>302.000000</td>\n",
       "      <td>302.000000</td>\n",
       "      <td>302.000000</td>\n",
       "      <td>302.000000</td>\n",
       "      <td>302.000000</td>\n",
       "      <td>302.000000</td>\n",
       "      <td>302.000000</td>\n",
       "      <td>302.000000</td>\n",
       "      <td>302.000000</td>\n",
       "      <td>302.000000</td>\n",
       "      <td>302.000000</td>\n",
       "      <td>302.000000</td>\n",
       "    </tr>\n",
       "    <tr>\n",
       "      <th>mean</th>\n",
       "      <td>54.42053</td>\n",
       "      <td>0.682119</td>\n",
       "      <td>0.963576</td>\n",
       "      <td>131.602649</td>\n",
       "      <td>246.500000</td>\n",
       "      <td>0.149007</td>\n",
       "      <td>0.526490</td>\n",
       "      <td>149.569536</td>\n",
       "      <td>0.327815</td>\n",
       "      <td>1.043046</td>\n",
       "      <td>1.397351</td>\n",
       "      <td>0.718543</td>\n",
       "      <td>2.314570</td>\n",
       "      <td>0.543046</td>\n",
       "    </tr>\n",
       "    <tr>\n",
       "      <th>std</th>\n",
       "      <td>9.04797</td>\n",
       "      <td>0.466426</td>\n",
       "      <td>1.032044</td>\n",
       "      <td>17.563394</td>\n",
       "      <td>51.753489</td>\n",
       "      <td>0.356686</td>\n",
       "      <td>0.526027</td>\n",
       "      <td>22.903527</td>\n",
       "      <td>0.470196</td>\n",
       "      <td>1.161452</td>\n",
       "      <td>0.616274</td>\n",
       "      <td>1.006748</td>\n",
       "      <td>0.613026</td>\n",
       "      <td>0.498970</td>\n",
       "    </tr>\n",
       "    <tr>\n",
       "      <th>min</th>\n",
       "      <td>29.00000</td>\n",
       "      <td>0.000000</td>\n",
       "      <td>0.000000</td>\n",
       "      <td>94.000000</td>\n",
       "      <td>126.000000</td>\n",
       "      <td>0.000000</td>\n",
       "      <td>0.000000</td>\n",
       "      <td>71.000000</td>\n",
       "      <td>0.000000</td>\n",
       "      <td>0.000000</td>\n",
       "      <td>0.000000</td>\n",
       "      <td>0.000000</td>\n",
       "      <td>0.000000</td>\n",
       "      <td>0.000000</td>\n",
       "    </tr>\n",
       "    <tr>\n",
       "      <th>25%</th>\n",
       "      <td>48.00000</td>\n",
       "      <td>0.000000</td>\n",
       "      <td>0.000000</td>\n",
       "      <td>120.000000</td>\n",
       "      <td>211.000000</td>\n",
       "      <td>0.000000</td>\n",
       "      <td>0.000000</td>\n",
       "      <td>133.250000</td>\n",
       "      <td>0.000000</td>\n",
       "      <td>0.000000</td>\n",
       "      <td>1.000000</td>\n",
       "      <td>0.000000</td>\n",
       "      <td>2.000000</td>\n",
       "      <td>0.000000</td>\n",
       "    </tr>\n",
       "    <tr>\n",
       "      <th>50%</th>\n",
       "      <td>55.50000</td>\n",
       "      <td>1.000000</td>\n",
       "      <td>1.000000</td>\n",
       "      <td>130.000000</td>\n",
       "      <td>240.500000</td>\n",
       "      <td>0.000000</td>\n",
       "      <td>1.000000</td>\n",
       "      <td>152.500000</td>\n",
       "      <td>0.000000</td>\n",
       "      <td>0.800000</td>\n",
       "      <td>1.000000</td>\n",
       "      <td>0.000000</td>\n",
       "      <td>2.000000</td>\n",
       "      <td>1.000000</td>\n",
       "    </tr>\n",
       "    <tr>\n",
       "      <th>75%</th>\n",
       "      <td>61.00000</td>\n",
       "      <td>1.000000</td>\n",
       "      <td>2.000000</td>\n",
       "      <td>140.000000</td>\n",
       "      <td>274.750000</td>\n",
       "      <td>0.000000</td>\n",
       "      <td>1.000000</td>\n",
       "      <td>166.000000</td>\n",
       "      <td>1.000000</td>\n",
       "      <td>1.600000</td>\n",
       "      <td>2.000000</td>\n",
       "      <td>1.000000</td>\n",
       "      <td>3.000000</td>\n",
       "      <td>1.000000</td>\n",
       "    </tr>\n",
       "    <tr>\n",
       "      <th>max</th>\n",
       "      <td>77.00000</td>\n",
       "      <td>1.000000</td>\n",
       "      <td>3.000000</td>\n",
       "      <td>200.000000</td>\n",
       "      <td>564.000000</td>\n",
       "      <td>1.000000</td>\n",
       "      <td>2.000000</td>\n",
       "      <td>202.000000</td>\n",
       "      <td>1.000000</td>\n",
       "      <td>6.200000</td>\n",
       "      <td>2.000000</td>\n",
       "      <td>4.000000</td>\n",
       "      <td>3.000000</td>\n",
       "      <td>1.000000</td>\n",
       "    </tr>\n",
       "  </tbody>\n",
       "</table>\n",
       "</div>"
      ],
      "text/plain": [
       "             age         sex  chest_pain  blood_pressure  cholesterol  \\\n",
       "count  302.00000  302.000000  302.000000      302.000000   302.000000   \n",
       "mean    54.42053    0.682119    0.963576      131.602649   246.500000   \n",
       "std      9.04797    0.466426    1.032044       17.563394    51.753489   \n",
       "min     29.00000    0.000000    0.000000       94.000000   126.000000   \n",
       "25%     48.00000    0.000000    0.000000      120.000000   211.000000   \n",
       "50%     55.50000    1.000000    1.000000      130.000000   240.500000   \n",
       "75%     61.00000    1.000000    2.000000      140.000000   274.750000   \n",
       "max     77.00000    1.000000    3.000000      200.000000   564.000000   \n",
       "\n",
       "       blood_sugar     restecg     thalach       exang     oldpeak  \\\n",
       "count   302.000000  302.000000  302.000000  302.000000  302.000000   \n",
       "mean      0.149007    0.526490  149.569536    0.327815    1.043046   \n",
       "std       0.356686    0.526027   22.903527    0.470196    1.161452   \n",
       "min       0.000000    0.000000   71.000000    0.000000    0.000000   \n",
       "25%       0.000000    0.000000  133.250000    0.000000    0.000000   \n",
       "50%       0.000000    1.000000  152.500000    0.000000    0.800000   \n",
       "75%       0.000000    1.000000  166.000000    1.000000    1.600000   \n",
       "max       1.000000    2.000000  202.000000    1.000000    6.200000   \n",
       "\n",
       "            slope     vessels        thal      target  \n",
       "count  302.000000  302.000000  302.000000  302.000000  \n",
       "mean     1.397351    0.718543    2.314570    0.543046  \n",
       "std      0.616274    1.006748    0.613026    0.498970  \n",
       "min      0.000000    0.000000    0.000000    0.000000  \n",
       "25%      1.000000    0.000000    2.000000    0.000000  \n",
       "50%      1.000000    0.000000    2.000000    1.000000  \n",
       "75%      2.000000    1.000000    3.000000    1.000000  \n",
       "max      2.000000    4.000000    3.000000    1.000000  "
      ]
     },
     "execution_count": 135,
     "metadata": {},
     "output_type": "execute_result"
    }
   ],
   "source": [
    "#Observe some basic statistics\n",
    "df.describe()"
   ]
  },
  {
   "cell_type": "code",
   "execution_count": 136,
   "id": "424ae6b9",
   "metadata": {},
   "outputs": [
    {
     "data": {
      "text/plain": [
       "1    164\n",
       "0    138\n",
       "Name: target, dtype: int64"
      ]
     },
     "execution_count": 136,
     "metadata": {},
     "output_type": "execute_result"
    }
   ],
   "source": [
    "#Get a count of number of patients having a cardiovascular disease and patients not having a cardiovascular disease using 'cardio' column\n",
    "df['target'].value_counts()"
   ]
  },
  {
   "cell_type": "code",
   "execution_count": 137,
   "id": "8fc86b0e",
   "metadata": {},
   "outputs": [],
   "source": [
    "#138 patients have no chance of having a cardiovascular disease\n",
    "#165 patients have high chance of having a cardiovascular disease"
   ]
  },
  {
   "cell_type": "code",
   "execution_count": 138,
   "id": "2265de00",
   "metadata": {
    "scrolled": true
   },
   "outputs": [
    {
     "data": {
      "text/plain": [
       "<AxesSubplot:xlabel='target', ylabel='count'>"
      ]
     },
     "execution_count": 138,
     "metadata": {},
     "output_type": "execute_result"
    },
    {
     "data": {
      "image/png": "[encoded data removed]",
      "text/plain": [
       "<Figure size 432x288 with 1 Axes>"
      ]
     },
     "metadata": {
      "needs_background": "light"
     },
     "output_type": "display_data"
    }
   ],
   "source": [
    "#Visualise the above count using sns\n",
    "sns.countplot(df['target'],palette=\"Blues\")"
   ]
  },
  {
   "cell_type": "code",
   "execution_count": 139,
   "id": "1b2a917a",
   "metadata": {},
   "outputs": [],
   "source": [
    "#Above is a graph with count on y axis and target on x axis "
   ]
  },
  {
   "cell_type": "code",
   "execution_count": 140,
   "id": "14b9d470",
   "metadata": {},
   "outputs": [
    {
     "data": {
      "text/plain": [
       "array([[<AxesSubplot:title={'center':'age'}>,\n",
       "        <AxesSubplot:title={'center':'sex'}>,\n",
       "        <AxesSubplot:title={'center':'chest_pain'}>,\n",
       "        <AxesSubplot:title={'center':'blood_pressure'}>],\n",
       "       [<AxesSubplot:title={'center':'cholesterol'}>,\n",
       "        <AxesSubplot:title={'center':'blood_sugar'}>,\n",
       "        <AxesSubplot:title={'center':'restecg'}>,\n",
       "        <AxesSubplot:title={'center':'thalach'}>],\n",
       "       [<AxesSubplot:title={'center':'exang'}>,\n",
       "        <AxesSubplot:title={'center':'oldpeak'}>,\n",
       "        <AxesSubplot:title={'center':'slope'}>,\n",
       "        <AxesSubplot:title={'center':'vessels'}>],\n",
       "       [<AxesSubplot:title={'center':'thal'}>,\n",
       "        <AxesSubplot:title={'center':'target'}>, <AxesSubplot:>,\n",
       "        <AxesSubplot:>]], dtype=object)"
      ]
     },
     "execution_count": 140,
     "metadata": {},
     "output_type": "execute_result"
    },
    {
     "data": {
      "image/png": "[encoded data removed]",
      "text/plain": [
       "<Figure size 1152x1440 with 16 Axes>"
      ]
     },
     "metadata": {
      "needs_background": "light"
     },
     "output_type": "display_data"
    }
   ],
   "source": [
    "#overview of distribution of each column\n",
    "df.hist(figsize=(16, 20), xlabelsize=8, ylabelsize=8)"
   ]
  },
  {
   "cell_type": "code",
   "execution_count": 141,
   "id": "6b9747e5",
   "metadata": {},
   "outputs": [
    {
     "name": "stdout",
     "output_type": "stream",
     "text": [
      "sex  target\n",
      "0    0          24\n",
      "     1          72\n",
      "1    0         114\n",
      "     1          92\n",
      "Name: sex, dtype: int64\n"
     ]
    },
    {
     "data": {
      "text/plain": [
       "<AxesSubplot:xlabel='sex', ylabel='count'>"
      ]
     },
     "execution_count": 141,
     "metadata": {},
     "output_type": "execute_result"
    },
    {
     "data": {
      "image/png": "[encoded data removed]",
      "text/plain": [
       "<Figure size 432x288 with 1 Axes>"
      ]
     },
     "metadata": {
      "needs_background": "light"
     },
     "output_type": "display_data"
    }
   ],
   "source": [
    "#the count of men are twice as many as women in the above dataset\n",
    "#Lets look at the distribution of heart disease between men and women\n",
    "print(df.groupby(['sex', 'target'])['sex'].count())\n",
    "sns.countplot(data=df, x='sex', hue='target',palette=\"Blues\")"
   ]
  },
  {
   "cell_type": "code",
   "execution_count": 142,
   "id": "fd884ca2",
   "metadata": {},
   "outputs": [
    {
     "name": "stdout",
     "output_type": "stream",
     "text": [
      "chest_pain  target\n",
      "0           0         104\n",
      "            1          39\n",
      "1           0           9\n",
      "            1          41\n",
      "2           0          18\n",
      "            1          68\n",
      "3           0           7\n",
      "            1          16\n",
      "Name: chest_pain, dtype: int64\n"
     ]
    },
    {
     "data": {
      "text/plain": [
       "<AxesSubplot:xlabel='chest_pain', ylabel='count'>"
      ]
     },
     "execution_count": 142,
     "metadata": {},
     "output_type": "execute_result"
    },
    {
     "data": {
      "image/png": "[encoded data removed]",
      "text/plain": [
       "<Figure size 432x288 with 1 Axes>"
      ]
     },
     "metadata": {
      "needs_background": "light"
     },
     "output_type": "display_data"
    }
   ],
   "source": [
    "#Lets look at the distribution of heart disease between different categories of chest pain\n",
    "print(df.groupby(['chest_pain', 'target'])['chest_pain'].count())\n",
    "sns.countplot(data=df, x='chest_pain', hue='target',palette=\"Blues\")"
   ]
  },
  {
   "cell_type": "code",
   "execution_count": 143,
   "id": "28382f0e",
   "metadata": {},
   "outputs": [
    {
     "name": "stdout",
     "output_type": "stream",
     "text": [
      "slope  target\n",
      "0      0          12\n",
      "       1           9\n",
      "1      0          91\n",
      "       1          49\n",
      "2      0          35\n",
      "       1         106\n",
      "Name: slope, dtype: int64\n"
     ]
    },
    {
     "data": {
      "text/plain": [
       "<AxesSubplot:xlabel='slope', ylabel='count'>"
      ]
     },
     "execution_count": 143,
     "metadata": {},
     "output_type": "execute_result"
    },
    {
     "data": {
      "image/png": "[encoded data removed]",
      "text/plain": [
       "<Figure size 432x288 with 1 Axes>"
      ]
     },
     "metadata": {
      "needs_background": "light"
     },
     "output_type": "display_data"
    }
   ],
   "source": [
    "#Lets look at the distribution of heart disease between different categories of slope\n",
    "print(df.groupby(['slope', 'target'])['slope'].count())\n",
    "sns.countplot(data=df, x='slope', hue='target',palette=\"Blues\")"
   ]
  },
  {
   "cell_type": "code",
   "execution_count": 144,
   "id": "54dd873f",
   "metadata": {},
   "outputs": [
    {
     "data": {
      "text/plain": [
       "<AxesSubplot:xlabel='thalach', ylabel='count'>"
      ]
     },
     "execution_count": 144,
     "metadata": {},
     "output_type": "execute_result"
    },
    {
     "data": {
      "image/png": "[encoded data removed]",
      "text/plain": [
       "<Figure size 1080x360 with 1 Axes>"
      ]
     },
     "metadata": {
      "needs_background": "light"
     },
     "output_type": "display_data"
    }
   ],
   "source": [
    "#Lets look at the distribution of heart disease with talach\n",
    "plt.subplots(figsize=(15, 5))\n",
    "sns.countplot(data=df, x=pd.cut(df['thalach'], 10), hue='target',palette=\"Blues\")"
   ]
  },
  {
   "cell_type": "code",
   "execution_count": 145,
   "id": "466ea014",
   "metadata": {},
   "outputs": [
    {
     "data": {
      "text/plain": [
       "<AxesSubplot:xlabel='thal', ylabel='count'>"
      ]
     },
     "execution_count": 145,
     "metadata": {},
     "output_type": "execute_result"
    },
    {
     "data": {
      "image/png": "[encoded data removed]",
      "text/plain": [
       "<Figure size 432x288 with 1 Axes>"
      ]
     },
     "metadata": {
      "needs_background": "light"
     },
     "output_type": "display_data"
    }
   ],
   "source": [
    "#Lets look at the distribution of heart disease between thal\n",
    "sns.countplot(data=df, x='thal', hue='target',palette=\"Blues\")"
   ]
  },
  {
   "cell_type": "code",
   "execution_count": 146,
   "id": "105ead07",
   "metadata": {},
   "outputs": [
    {
     "data": {
      "text/plain": [
       "<AxesSubplot:xlabel='vessels', ylabel='count'>"
      ]
     },
     "execution_count": 146,
     "metadata": {},
     "output_type": "execute_result"
    },
    {
     "data": {
      "image/png": "[encoded data removed]",
      "text/plain": [
       "<Figure size 432x288 with 1 Axes>"
      ]
     },
     "metadata": {
      "needs_background": "light"
     },
     "output_type": "display_data"
    }
   ],
   "source": [
    "#Lets look at the distribution of heart disease between number of heart vessels coloured by flourosopy\n",
    "sns.countplot(data=df, x='vessels', hue='target',palette=\"Blues\")"
   ]
  },
  {
   "cell_type": "code",
   "execution_count": 147,
   "id": "3b8f6131",
   "metadata": {},
   "outputs": [
    {
     "data": {
      "text/html": [
       "<div>\n",
       "<style scoped>\n",
       "    .dataframe tbody tr th:only-of-type {\n",
       "        vertical-align: middle;\n",
       "    }\n",
       "\n",
       "    .dataframe tbody tr th {\n",
       "        vertical-align: top;\n",
       "    }\n",
       "\n",
       "    .dataframe thead th {\n",
       "        text-align: right;\n",
       "    }\n",
       "</style>\n",
       "<table border=\"1\" class=\"dataframe\">\n",
       "  <thead>\n",
       "    <tr style=\"text-align: right;\">\n",
       "      <th></th>\n",
       "      <th>age</th>\n",
       "      <th>sex</th>\n",
       "      <th>chest_pain</th>\n",
       "      <th>blood_pressure</th>\n",
       "      <th>cholesterol</th>\n",
       "      <th>blood_sugar</th>\n",
       "      <th>restecg</th>\n",
       "      <th>thalach</th>\n",
       "      <th>exang</th>\n",
       "      <th>oldpeak</th>\n",
       "      <th>slope</th>\n",
       "      <th>vessels</th>\n",
       "      <th>thal</th>\n",
       "      <th>target</th>\n",
       "    </tr>\n",
       "  </thead>\n",
       "  <tbody>\n",
       "    <tr>\n",
       "      <th>age</th>\n",
       "      <td>1.000000</td>\n",
       "      <td>-0.094962</td>\n",
       "      <td>-0.063107</td>\n",
       "      <td>0.283121</td>\n",
       "      <td>0.207216</td>\n",
       "      <td>0.119492</td>\n",
       "      <td>-0.111590</td>\n",
       "      <td>-0.395235</td>\n",
       "      <td>0.093216</td>\n",
       "      <td>0.206040</td>\n",
       "      <td>-0.164124</td>\n",
       "      <td>0.302261</td>\n",
       "      <td>0.065317</td>\n",
       "      <td>-0.221476</td>\n",
       "    </tr>\n",
       "    <tr>\n",
       "      <th>sex</th>\n",
       "      <td>-0.094962</td>\n",
       "      <td>1.000000</td>\n",
       "      <td>-0.051740</td>\n",
       "      <td>-0.057647</td>\n",
       "      <td>-0.195571</td>\n",
       "      <td>0.046022</td>\n",
       "      <td>-0.060351</td>\n",
       "      <td>-0.046439</td>\n",
       "      <td>0.143460</td>\n",
       "      <td>0.098322</td>\n",
       "      <td>-0.032990</td>\n",
       "      <td>0.113060</td>\n",
       "      <td>0.211452</td>\n",
       "      <td>-0.283609</td>\n",
       "    </tr>\n",
       "    <tr>\n",
       "      <th>chest_pain</th>\n",
       "      <td>-0.063107</td>\n",
       "      <td>-0.051740</td>\n",
       "      <td>1.000000</td>\n",
       "      <td>0.046486</td>\n",
       "      <td>-0.072682</td>\n",
       "      <td>0.096018</td>\n",
       "      <td>0.041561</td>\n",
       "      <td>0.293367</td>\n",
       "      <td>-0.392937</td>\n",
       "      <td>-0.146692</td>\n",
       "      <td>0.116854</td>\n",
       "      <td>-0.195356</td>\n",
       "      <td>-0.160370</td>\n",
       "      <td>0.432080</td>\n",
       "    </tr>\n",
       "    <tr>\n",
       "      <th>blood_pressure</th>\n",
       "      <td>0.283121</td>\n",
       "      <td>-0.057647</td>\n",
       "      <td>0.046486</td>\n",
       "      <td>1.000000</td>\n",
       "      <td>0.125256</td>\n",
       "      <td>0.178125</td>\n",
       "      <td>-0.115367</td>\n",
       "      <td>-0.048023</td>\n",
       "      <td>0.068526</td>\n",
       "      <td>0.194600</td>\n",
       "      <td>-0.122873</td>\n",
       "      <td>0.099248</td>\n",
       "      <td>0.062870</td>\n",
       "      <td>-0.146269</td>\n",
       "    </tr>\n",
       "    <tr>\n",
       "      <th>cholesterol</th>\n",
       "      <td>0.207216</td>\n",
       "      <td>-0.195571</td>\n",
       "      <td>-0.072682</td>\n",
       "      <td>0.125256</td>\n",
       "      <td>1.000000</td>\n",
       "      <td>0.011428</td>\n",
       "      <td>-0.147602</td>\n",
       "      <td>-0.005308</td>\n",
       "      <td>0.064099</td>\n",
       "      <td>0.050086</td>\n",
       "      <td>0.000417</td>\n",
       "      <td>0.086878</td>\n",
       "      <td>0.096810</td>\n",
       "      <td>-0.081437</td>\n",
       "    </tr>\n",
       "    <tr>\n",
       "      <th>blood_sugar</th>\n",
       "      <td>0.119492</td>\n",
       "      <td>0.046022</td>\n",
       "      <td>0.096018</td>\n",
       "      <td>0.178125</td>\n",
       "      <td>0.011428</td>\n",
       "      <td>1.000000</td>\n",
       "      <td>-0.083081</td>\n",
       "      <td>-0.007169</td>\n",
       "      <td>0.024729</td>\n",
       "      <td>0.004514</td>\n",
       "      <td>-0.058654</td>\n",
       "      <td>0.144935</td>\n",
       "      <td>-0.032752</td>\n",
       "      <td>-0.026826</td>\n",
       "    </tr>\n",
       "    <tr>\n",
       "      <th>restecg</th>\n",
       "      <td>-0.111590</td>\n",
       "      <td>-0.060351</td>\n",
       "      <td>0.041561</td>\n",
       "      <td>-0.115367</td>\n",
       "      <td>-0.147602</td>\n",
       "      <td>-0.083081</td>\n",
       "      <td>1.000000</td>\n",
       "      <td>0.041210</td>\n",
       "      <td>-0.068807</td>\n",
       "      <td>-0.056251</td>\n",
       "      <td>0.090402</td>\n",
       "      <td>-0.083112</td>\n",
       "      <td>-0.010473</td>\n",
       "      <td>0.134874</td>\n",
       "    </tr>\n",
       "    <tr>\n",
       "      <th>thalach</th>\n",
       "      <td>-0.395235</td>\n",
       "      <td>-0.046439</td>\n",
       "      <td>0.293367</td>\n",
       "      <td>-0.048023</td>\n",
       "      <td>-0.005308</td>\n",
       "      <td>-0.007169</td>\n",
       "      <td>0.041210</td>\n",
       "      <td>1.000000</td>\n",
       "      <td>-0.377411</td>\n",
       "      <td>-0.342201</td>\n",
       "      <td>0.384754</td>\n",
       "      <td>-0.228311</td>\n",
       "      <td>-0.094910</td>\n",
       "      <td>0.419955</td>\n",
       "    </tr>\n",
       "    <tr>\n",
       "      <th>exang</th>\n",
       "      <td>0.093216</td>\n",
       "      <td>0.143460</td>\n",
       "      <td>-0.392937</td>\n",
       "      <td>0.068526</td>\n",
       "      <td>0.064099</td>\n",
       "      <td>0.024729</td>\n",
       "      <td>-0.068807</td>\n",
       "      <td>-0.377411</td>\n",
       "      <td>1.000000</td>\n",
       "      <td>0.286766</td>\n",
       "      <td>-0.256106</td>\n",
       "      <td>0.125377</td>\n",
       "      <td>0.205826</td>\n",
       "      <td>-0.435601</td>\n",
       "    </tr>\n",
       "    <tr>\n",
       "      <th>oldpeak</th>\n",
       "      <td>0.206040</td>\n",
       "      <td>0.098322</td>\n",
       "      <td>-0.146692</td>\n",
       "      <td>0.194600</td>\n",
       "      <td>0.050086</td>\n",
       "      <td>0.004514</td>\n",
       "      <td>-0.056251</td>\n",
       "      <td>-0.342201</td>\n",
       "      <td>0.286766</td>\n",
       "      <td>1.000000</td>\n",
       "      <td>-0.576314</td>\n",
       "      <td>0.236560</td>\n",
       "      <td>0.209090</td>\n",
       "      <td>-0.429146</td>\n",
       "    </tr>\n",
       "    <tr>\n",
       "      <th>slope</th>\n",
       "      <td>-0.164124</td>\n",
       "      <td>-0.032990</td>\n",
       "      <td>0.116854</td>\n",
       "      <td>-0.122873</td>\n",
       "      <td>0.000417</td>\n",
       "      <td>-0.058654</td>\n",
       "      <td>0.090402</td>\n",
       "      <td>0.384754</td>\n",
       "      <td>-0.256106</td>\n",
       "      <td>-0.576314</td>\n",
       "      <td>1.000000</td>\n",
       "      <td>-0.092236</td>\n",
       "      <td>-0.103314</td>\n",
       "      <td>0.343940</td>\n",
       "    </tr>\n",
       "    <tr>\n",
       "      <th>vessels</th>\n",
       "      <td>0.302261</td>\n",
       "      <td>0.113060</td>\n",
       "      <td>-0.195356</td>\n",
       "      <td>0.099248</td>\n",
       "      <td>0.086878</td>\n",
       "      <td>0.144935</td>\n",
       "      <td>-0.083112</td>\n",
       "      <td>-0.228311</td>\n",
       "      <td>0.125377</td>\n",
       "      <td>0.236560</td>\n",
       "      <td>-0.092236</td>\n",
       "      <td>1.000000</td>\n",
       "      <td>0.160085</td>\n",
       "      <td>-0.408992</td>\n",
       "    </tr>\n",
       "    <tr>\n",
       "      <th>thal</th>\n",
       "      <td>0.065317</td>\n",
       "      <td>0.211452</td>\n",
       "      <td>-0.160370</td>\n",
       "      <td>0.062870</td>\n",
       "      <td>0.096810</td>\n",
       "      <td>-0.032752</td>\n",
       "      <td>-0.010473</td>\n",
       "      <td>-0.094910</td>\n",
       "      <td>0.205826</td>\n",
       "      <td>0.209090</td>\n",
       "      <td>-0.103314</td>\n",
       "      <td>0.160085</td>\n",
       "      <td>1.000000</td>\n",
       "      <td>-0.343101</td>\n",
       "    </tr>\n",
       "    <tr>\n",
       "      <th>target</th>\n",
       "      <td>-0.221476</td>\n",
       "      <td>-0.283609</td>\n",
       "      <td>0.432080</td>\n",
       "      <td>-0.146269</td>\n",
       "      <td>-0.081437</td>\n",
       "      <td>-0.026826</td>\n",
       "      <td>0.134874</td>\n",
       "      <td>0.419955</td>\n",
       "      <td>-0.435601</td>\n",
       "      <td>-0.429146</td>\n",
       "      <td>0.343940</td>\n",
       "      <td>-0.408992</td>\n",
       "      <td>-0.343101</td>\n",
       "      <td>1.000000</td>\n",
       "    </tr>\n",
       "  </tbody>\n",
       "</table>\n",
       "</div>"
      ],
      "text/plain": [
       "                     age       sex  chest_pain  blood_pressure  cholesterol  \\\n",
       "age             1.000000 -0.094962   -0.063107        0.283121     0.207216   \n",
       "sex            -0.094962  1.000000   -0.051740       -0.057647    -0.195571   \n",
       "chest_pain     -0.063107 -0.051740    1.000000        0.046486    -0.072682   \n",
       "blood_pressure  0.283121 -0.057647    0.046486        1.000000     0.125256   \n",
       "cholesterol     0.207216 -0.195571   -0.072682        0.125256     1.000000   \n",
       "blood_sugar     0.119492  0.046022    0.096018        0.178125     0.011428   \n",
       "restecg        -0.111590 -0.060351    0.041561       -0.115367    -0.147602   \n",
       "thalach        -0.395235 -0.046439    0.293367       -0.048023    -0.005308   \n",
       "exang           0.093216  0.143460   -0.392937        0.068526     0.064099   \n",
       "oldpeak         0.206040  0.098322   -0.146692        0.194600     0.050086   \n",
       "slope          -0.164124 -0.032990    0.116854       -0.122873     0.000417   \n",
       "vessels         0.302261  0.113060   -0.195356        0.099248     0.086878   \n",
       "thal            0.065317  0.211452   -0.160370        0.062870     0.096810   \n",
       "target         -0.221476 -0.283609    0.432080       -0.146269    -0.081437   \n",
       "\n",
       "                blood_sugar   restecg   thalach     exang   oldpeak     slope  \\\n",
       "age                0.119492 -0.111590 -0.395235  0.093216  0.206040 -0.164124   \n",
       "sex                0.046022 -0.060351 -0.046439  0.143460  0.098322 -0.032990   \n",
       "chest_pain         0.096018  0.041561  0.293367 -0.392937 -0.146692  0.116854   \n",
       "blood_pressure     0.178125 -0.115367 -0.048023  0.068526  0.194600 -0.122873   \n",
       "cholesterol        0.011428 -0.147602 -0.005308  0.064099  0.050086  0.000417   \n",
       "blood_sugar        1.000000 -0.083081 -0.007169  0.024729  0.004514 -0.058654   \n",
       "restecg           -0.083081  1.000000  0.041210 -0.068807 -0.056251  0.090402   \n",
       "thalach           -0.007169  0.041210  1.000000 -0.377411 -0.342201  0.384754   \n",
       "exang              0.024729 -0.068807 -0.377411  1.000000  0.286766 -0.256106   \n",
       "oldpeak            0.004514 -0.056251 -0.342201  0.286766  1.000000 -0.576314   \n",
       "slope             -0.058654  0.090402  0.384754 -0.256106 -0.576314  1.000000   \n",
       "vessels            0.144935 -0.083112 -0.228311  0.125377  0.236560 -0.092236   \n",
       "thal              -0.032752 -0.010473 -0.094910  0.205826  0.209090 -0.103314   \n",
       "target            -0.026826  0.134874  0.419955 -0.435601 -0.429146  0.343940   \n",
       "\n",
       "                 vessels      thal    target  \n",
       "age             0.302261  0.065317 -0.221476  \n",
       "sex             0.113060  0.211452 -0.283609  \n",
       "chest_pain     -0.195356 -0.160370  0.432080  \n",
       "blood_pressure  0.099248  0.062870 -0.146269  \n",
       "cholesterol     0.086878  0.096810 -0.081437  \n",
       "blood_sugar     0.144935 -0.032752 -0.026826  \n",
       "restecg        -0.083112 -0.010473  0.134874  \n",
       "thalach        -0.228311 -0.094910  0.419955  \n",
       "exang           0.125377  0.205826 -0.435601  \n",
       "oldpeak         0.236560  0.209090 -0.429146  \n",
       "slope          -0.092236 -0.103314  0.343940  \n",
       "vessels         1.000000  0.160085 -0.408992  \n",
       "thal            0.160085  1.000000 -0.343101  \n",
       "target         -0.408992 -0.343101  1.000000  "
      ]
     },
     "execution_count": 147,
     "metadata": {},
     "output_type": "execute_result"
    }
   ],
   "source": [
    "#Get the correlation of the columns\n",
    "df.corr()"
   ]
  },
  {
   "cell_type": "code",
   "execution_count": 148,
   "id": "310903a1",
   "metadata": {},
   "outputs": [
    {
     "data": {
      "text/plain": [
       "<AxesSubplot:>"
      ]
     },
     "execution_count": 148,
     "metadata": {},
     "output_type": "execute_result"
    },
    {
     "data": {
      "image/png": "[encoded data removed]",
      "text/plain": [
       "<Figure size 648x648 with 2 Axes>"
      ]
     },
     "metadata": {
      "needs_background": "light"
     },
     "output_type": "display_data"
    }
   ],
   "source": [
    "#Visualise the correlation\n",
    "\n",
    "#size of heatmap will be 10X10 inches\n",
    "plt.figure(figsize=(9,9))\n",
    "#annot=\"True\"-to allow annotations i.e information to be displayed about the heatmap\n",
    "#fmt=\".0%\"-format the data to a percentage with no decimal places\n",
    "sns.heatmap(df.corr(), annot=True, fmt='.0%')"
   ]
  },
  {
   "cell_type": "markdown",
   "id": "8b947c28",
   "metadata": {},
   "source": [
    "# Step-3:Split the data"
   ]
  },
  {
   "cell_type": "code",
   "execution_count": 149,
   "id": "20ada89e",
   "metadata": {},
   "outputs": [],
   "source": [
    "#Split the data\n",
    "# Inorder to train the model we give it as 2 separate datasets (input,output) or (independent data set,target data set)\n",
    "#X-includes all columns except target\n",
    "#Y-target column\n",
    "X = df.drop(columns=['target'])\n",
    "Y = df['target']"
   ]
  },
  {
   "cell_type": "code",
   "execution_count": 150,
   "id": "33b221ae",
   "metadata": {},
   "outputs": [],
   "source": [
    "#Split the data again into 80% training data set and 20% testing data set\n",
    "#Function returns a tuple,therefore unpack it into 4 variables \n",
    "X_train, X_test, Y_train, Y_test = train_test_split(X, Y, test_size= 0.2)\n",
    "#Place the train and test data into respective excelsheets\n",
    "X_train.to_excel('train.xlsx', index = False)\n",
    "X_test.to_excel('test.xlsx', index = False)"
   ]
  },
  {
   "cell_type": "code",
   "execution_count": 151,
   "id": "57fa5dff",
   "metadata": {},
   "outputs": [],
   "source": [
    "#Feature Scaling\n",
    "#Scale the values in the data to be values between 0 and 1 inclusive\n",
    "sc = StandardScaler()\n",
    "X_train = sc.fit_transform(X_train)\n",
    "X_test = sc.transform(X_test)"
   ]
  },
  {
   "cell_type": "markdown",
   "id": "c844bcd1",
   "metadata": {},
   "source": [
    "# Step-4:Create a model by selecting an algorithm"
   ]
  },
  {
   "cell_type": "markdown",
   "id": "423b55f6",
   "metadata": {},
   "source": [
    "# 1.Random Forest"
   ]
  },
  {
   "cell_type": "code",
   "execution_count": 152,
   "id": "ddcc965c",
   "metadata": {},
   "outputs": [
    {
     "name": "stdout",
     "output_type": "stream",
     "text": [
      "[0.7213114754098361, 0.819672131147541, 0.819672131147541, 0.8032786885245902, 0.8032786885245902, 0.8032786885245902, 0.8032786885245902, 0.8032786885245902]\n",
      "100\n"
     ]
    },
    {
     "data": {
      "image/png": "[encoded data removed]",
      "text/plain": [
       "<Figure size 432x288 with 1 Axes>"
      ]
     },
     "metadata": {
      "needs_background": "light"
     },
     "output_type": "display_data"
    }
   ],
   "source": [
    "#Find the optimal number of decision trees for the Random Forest model (from a list of options)\n",
    "randomForest_scores = []\n",
    "maxforest=0\n",
    "mf=0\n",
    "trees = [10, 100, 200, 500, 1000, 1500, 2000, 5000]\n",
    "for x in trees:\n",
    "    randomForest = RandomForestClassifier(n_estimators = x, random_state = 1, max_depth=1)\n",
    "    randomForest.fit(X_train, Y_train)\n",
    "    randomForest_scores.append(randomForest.score(X_test, Y_test))\n",
    "    if(randomForest.score(X_test, Y_test)>maxforest):\n",
    "        mf=x\n",
    "        maxforest=randomForest.score(X_test, Y_test)\n",
    "    \n",
    "print(randomForest_scores)\n",
    "\n",
    "sns.barplot(trees, randomForest_scores, hue=randomForest_scores, palette='Blues')\n",
    "plt.xlabel('Number of Trees')\n",
    "plt.ylabel('Accuracy Score')\n",
    "plt.legend(bbox_to_anchor=(1.04,1), loc=\"upper left\")\n",
    "\n",
    "print(mf)"
   ]
  },
  {
   "cell_type": "code",
   "execution_count": 153,
   "id": "8198be7a",
   "metadata": {},
   "outputs": [
    {
     "name": "stdout",
     "output_type": "stream",
     "text": [
      "[0.819672131147541, 0.7868852459016393, 0.7868852459016393, 0.7704918032786885]\n",
      "1\n"
     ]
    },
    {
     "data": {
      "image/png": "[encoded data removed]",
      "text/plain": [
       "<Figure size 432x288 with 1 Axes>"
      ]
     },
     "metadata": {
      "needs_background": "light"
     },
     "output_type": "display_data"
    }
   ],
   "source": [
    "#Find the optimal max_depth for the Random Forest model (from a list of options)\n",
    "randomForest_scores = []\n",
    "depth = [1, 5, 10, 15]\n",
    "maxdepth=0\n",
    "md=0\n",
    "for x in depth:\n",
    "    randomForest = RandomForestClassifier(n_estimators = mf, random_state = 42, max_depth= x)\n",
    "    randomForest.fit(X_train, Y_train)\n",
    "    randomForest_scores.append(randomForest.score(X_test, Y_test))\n",
    "    if(randomForest.score(X_test, Y_test)>maxdepth):\n",
    "        md=x\n",
    "        maxdepth=randomForest.score(X_test, Y_test)\n",
    "        \n",
    "print(randomForest_scores)\n",
    "\n",
    "sns.barplot(depth, randomForest_scores, hue=randomForest_scores, palette='Blues')\n",
    "plt.xlabel('Max Depth')\n",
    "plt.ylabel('Accuracy Score')\n",
    "plt.legend(bbox_to_anchor=(1.04,1), loc=\"upper left\")\n",
    "\n",
    "print(md)"
   ]
  },
  {
   "cell_type": "code",
   "execution_count": 154,
   "id": "c846eb22",
   "metadata": {
    "scrolled": true
   },
   "outputs": [
    {
     "data": {
      "text/plain": [
       "array([1, 0, 1, 1, 1, 1, 0, 1, 1, 1, 1, 1, 0, 1, 1, 0, 0, 1, 0, 0, 1, 1,\n",
       "       0, 1, 1, 0, 1, 0, 0, 0, 1, 1, 1, 0, 0, 1, 1, 1, 0, 1, 0, 1, 1, 0,\n",
       "       1, 1, 1, 1, 1, 0, 1, 0, 0, 0, 1, 1, 0, 1, 1, 1, 1], dtype=int64)"
      ]
     },
     "execution_count": 154,
     "metadata": {},
     "output_type": "execute_result"
    }
   ],
   "source": [
    "# Use Random Forest Classifier       \n",
    "#Instantiate model with decision trees and depth which gives max accuracy (optimal numbers based on iterated experiments above)\n",
    "forest = RandomForestClassifier(n_estimators = mf, random_state = 1, max_depth=md)\n",
    "#Train the forest model so that it learns patterns\n",
    "forest.fit(X_train, Y_train)\n",
    "#prediction\n",
    "prediction=forest.predict(X_test)\n",
    "prediction"
   ]
  },
  {
   "cell_type": "code",
   "execution_count": 155,
   "id": "a9ca1d59",
   "metadata": {},
   "outputs": [
    {
     "data": {
      "text/plain": [
       "0.8381742738589212"
      ]
     },
     "execution_count": 155,
     "metadata": {},
     "output_type": "execute_result"
    }
   ],
   "source": [
    "#Test the model's accuracy on the training data set\n",
    "forest.score(X_train,Y_train)"
   ]
  },
  {
   "cell_type": "code",
   "execution_count": 156,
   "id": "61f3e11f",
   "metadata": {
    "scrolled": true
   },
   "outputs": [
    {
     "name": "stdout",
     "output_type": "stream",
     "text": [
      "0.819672131147541\n"
     ]
    }
   ],
   "source": [
    "#Test the models accuracy on the test data set\n",
    "score1=accuracy_score(Y_test,prediction)\n",
    "print(score1)"
   ]
  },
  {
   "cell_type": "code",
   "execution_count": 157,
   "id": "1c9d4ee8",
   "metadata": {},
   "outputs": [
    {
     "name": "stdout",
     "output_type": "stream",
     "text": [
      "Random Forest accuracy is 82.0%\n"
     ]
    }
   ],
   "source": [
    "#Print the accuracy\n",
    "score1= round((score1), 3) *100\n",
    "print(f\"Random Forest accuracy is {score1}%\")"
   ]
  },
  {
   "cell_type": "code",
   "execution_count": 158,
   "id": "17d7fc0a",
   "metadata": {},
   "outputs": [
    {
     "name": "stdout",
     "output_type": "stream",
     "text": [
      "[[20  9]\n",
      " [ 2 30]]\n",
      "Model Test Accuracy = 0.819672131147541\n"
     ]
    },
    {
     "data": {
      "image/png": "[encoded data removed]",
      "text/plain": [
       "<Figure size 720x360 with 1 Axes>"
      ]
     },
     "metadata": {
      "needs_background": "light"
     },
     "output_type": "display_data"
    }
   ],
   "source": [
    "#confusion matrix\n",
    "plt.subplots(figsize=(10,5))\n",
    "#Test the models accuracy on the test data set\n",
    "cm = confusion_matrix(Y_test, forest.predict(X_test))\n",
    "TN = cm[0][0]\n",
    "TP = cm[1][1]\n",
    "FN = cm[1][0]\n",
    "FP = cm[0][1]\n",
    "#Print the confusion matrix\n",
    "print(cm)\n",
    "sns.heatmap(cm, annot=True, fmt='d', cmap='Blues', cbar=False, xticklabels=['low', 'high'], yticklabels=['low', 'high'])\n",
    "plt.xlabel('Predicted Values')\n",
    "plt.ylabel('Actual Values')\n",
    "plt.title('Random Forest: Confusion Matrix')\n",
    "#Print the models accuracy on the test data\n",
    "print('Model Test Accuracy = {}'. format( (TP + TN)/ (TP +TN + FN + FP)  ) )"
   ]
  },
  {
   "cell_type": "markdown",
   "id": "e3a660db",
   "metadata": {},
   "source": [
    "# 2.K-Nearest Neighbour"
   ]
  },
  {
   "cell_type": "code",
   "execution_count": 159,
   "id": "790f52d5",
   "metadata": {},
   "outputs": [
    {
     "name": "stdout",
     "output_type": "stream",
     "text": [
      "Max K Nearest Neighbors Accuracy is 86.89%\n",
      "Best K is 6\n"
     ]
    },
    {
     "data": {
      "image/png": "[encoded data removed]",
      "text/plain": [
       "<Figure size 432x288 with 1 Axes>"
      ]
     },
     "metadata": {
      "needs_background": "light"
     },
     "output_type": "display_data"
    }
   ],
   "source": [
    "#Find the optimal k value from 1 to 30\n",
    "accuracyScores = []\n",
    "\n",
    "for x in range(1,30):\n",
    "    knn= KNeighborsClassifier(n_neighbors = x)\n",
    "    knn.fit(X_train, Y_train)\n",
    "    accuracyScores.append(knn.score(X_test, Y_test))\n",
    "    \n",
    "    \n",
    "sns.lineplot(range(1,30), accuracyScores)\n",
    "plt.xticks(np.arange(1,30,1))\n",
    "plt.xlabel(\"K value\")\n",
    "plt.ylabel(\"Accuracy Score\")\n",
    "\n",
    "\n",
    "best_k = accuracyScores.index(max(accuracyScores)) + 1\n",
    "max_score = round((max(accuracyScores) * 100), 2) \n",
    "\n",
    "print(f\"Max K Nearest Neighbors Accuracy is {max_score}%\")\n",
    "print(f\"Best K is {best_k}\")"
   ]
  },
  {
   "cell_type": "code",
   "execution_count": 160,
   "id": "580abc69",
   "metadata": {},
   "outputs": [
    {
     "data": {
      "text/plain": [
       "array([1, 1, 1, 1, 1, 1, 0, 1, 1, 0, 1, 1, 0, 0, 1, 0, 0, 1, 0, 0, 1, 1,\n",
       "       0, 1, 0, 0, 1, 0, 0, 0, 0, 0, 0, 0, 0, 1, 1, 1, 0, 1, 0, 1, 1, 0,\n",
       "       1, 1, 0, 0, 1, 0, 1, 0, 0, 0, 1, 1, 0, 1, 1, 1, 1], dtype=int64)"
      ]
     },
     "execution_count": 160,
     "metadata": {},
     "output_type": "execute_result"
    }
   ],
   "source": [
    "# Use K Nearest Neighbours Classifier       \n",
    "#Instantiate model with k which gives max accuracy (optimal numbers based on iterated experiments above)\n",
    "knn = KNeighborsClassifier(n_neighbors = best_k)\n",
    "\n",
    "#Train the knn model so that it learns patterns\n",
    "knn.fit(X_train, Y_train)\n",
    "\n",
    "#prediction\n",
    "prediction = knn.predict(X_test)\n",
    "prediction"
   ]
  },
  {
   "cell_type": "code",
   "execution_count": 161,
   "id": "c28cf3d9",
   "metadata": {},
   "outputs": [
    {
     "data": {
      "text/plain": [
       "0.8381742738589212"
      ]
     },
     "execution_count": 161,
     "metadata": {},
     "output_type": "execute_result"
    }
   ],
   "source": [
    "#Test the model's accuracy on the training data set\n",
    "forest.score(X_train,Y_train)\n"
   ]
  },
  {
   "cell_type": "code",
   "execution_count": 162,
   "id": "7bbd20c4",
   "metadata": {},
   "outputs": [
    {
     "name": "stdout",
     "output_type": "stream",
     "text": [
      "K Nearest Neighbors accuracy is 86.9%\n"
     ]
    }
   ],
   "source": [
    "#Test and print the models accuracy on the test data set\n",
    "score2 = round(knn.score(X_test, Y_test), 3) *100\n",
    "print(f\"K Nearest Neighbors accuracy is {score2}%\")"
   ]
  },
  {
   "cell_type": "code",
   "execution_count": 163,
   "id": "00a134e6",
   "metadata": {},
   "outputs": [
    {
     "name": "stdout",
     "output_type": "stream",
     "text": [
      "[[25  4]\n",
      " [ 4 28]]\n",
      "Model Test Accuracy = 0.8688524590163934\n"
     ]
    },
    {
     "data": {
      "image/png": "[encoded data removed]",
      "text/plain": [
       "<Figure size 720x360 with 1 Axes>"
      ]
     },
     "metadata": {
      "needs_background": "light"
     },
     "output_type": "display_data"
    }
   ],
   "source": [
    "#confusion matrix\n",
    "plt.subplots(figsize=(10,5))\n",
    "#Test the models accuracy on the test data set\n",
    "cm = confusion_matrix(Y_test, knn.predict(X_test))\n",
    "TN = cm[0][0]\n",
    "TP = cm[1][1]\n",
    "FN = cm[1][0]\n",
    "FP = cm[0][1]\n",
    "#Print the confusion matrix\n",
    "print(cm)\n",
    "sns.heatmap(cm, annot=True, fmt='d', cmap='Blues', cbar=False, xticklabels=['low', 'high'], yticklabels=['low', 'high'])\n",
    "plt.xlabel('Predicted Values')\n",
    "plt.ylabel('Actual Values')\n",
    "plt.title('K Nearest Neighbours: Confusion Matrix')\n",
    "#Print the models accuracy on the test data\n",
    "print('Model Test Accuracy = {}'. format( (TP + TN)/ (TP +TN + FN + FP)  ) )"
   ]
  },
  {
   "cell_type": "markdown",
   "id": "09d56551",
   "metadata": {},
   "source": [
    "# Decision Tree"
   ]
  },
  {
   "cell_type": "code",
   "execution_count": 164,
   "id": "aca40caa",
   "metadata": {},
   "outputs": [
    {
     "name": "stdout",
     "output_type": "stream",
     "text": [
      "Max Decision Tree Accuracy is 81.97%\n",
      "Best max_features is 13\n"
     ]
    },
    {
     "data": {
      "image/png": "[encoded data removed]",
      "text/plain": [
       "<Figure size 432x288 with 1 Axes>"
      ]
     },
     "metadata": {
      "needs_background": "light"
     },
     "output_type": "display_data"
    }
   ],
   "source": [
    "dt_scores = []\n",
    "for i in range(1, len(X.columns) + 1):\n",
    "    dt_classifier = DecisionTreeClassifier(max_features = i, random_state = 0)\n",
    "    dt_classifier.fit(X_train, Y_train)\n",
    "    dt_scores.append(dt_classifier.score(X_test, Y_test))\n",
    "\n",
    "sns.lineplot(range(1,len(X.columns) + 1), dt_scores)\n",
    "plt.xticks(np.arange(1,len(X.columns),1))\n",
    "plt.xlabel(\"max_feaures value\")\n",
    "plt.ylabel(\"Accuracy Score\")\n",
    "\n",
    "\n",
    "best_max_features = dt_scores.index(max(dt_scores)) + 1\n",
    "max_score = round((max(dt_scores) * 100), 2) \n",
    "\n",
    "print(f\"Max Decision Tree Accuracy is {max_score}%\")\n",
    "print(f\"Best max_features is {best_max_features}\")"
   ]
  },
  {
   "cell_type": "code",
   "execution_count": 165,
   "id": "9d2ca8eb",
   "metadata": {},
   "outputs": [
    {
     "name": "stdout",
     "output_type": "stream",
     "text": [
      "Decision Tree accuracy is 82.0%\n"
     ]
    }
   ],
   "source": [
    "# Use Decision Tree Classifier    \n",
    "tree = DecisionTreeClassifier(max_features=best_max_features,random_state=0) \n",
    "#Train the tree model so that it learns patterns\n",
    "tree.fit(X_train, Y_train)\n",
    "#prediction\n",
    "prediction = tree.predict(X_test) \n",
    "#Test the model's accuracy on the training data set\n",
    "tree.score(X_train,Y_train)\n",
    "#Test and print the models accuracy on the test data set\n",
    "score3 = round(tree.score(X_test, Y_test), 3) *100\n",
    "print(f\"Decision Tree accuracy is {score3}%\")"
   ]
  },
  {
   "cell_type": "code",
   "execution_count": 166,
   "id": "fcf138fe",
   "metadata": {},
   "outputs": [
    {
     "name": "stdout",
     "output_type": "stream",
     "text": [
      "[[22  7]\n",
      " [ 4 28]]\n",
      "Model Test Accuracy = 0.819672131147541\n"
     ]
    },
    {
     "data": {
      "image/png": "[encoded data removed]",
      "text/plain": [
       "<Figure size 720x360 with 1 Axes>"
      ]
     },
     "metadata": {
      "needs_background": "light"
     },
     "output_type": "display_data"
    }
   ],
   "source": [
    "#confusion matrix\n",
    "plt.subplots(figsize=(10,5))\n",
    "#Test the models accuracy on the test data set\n",
    "cm = confusion_matrix(Y_test, tree.predict(X_test))\n",
    "TN = cm[0][0]\n",
    "TP = cm[1][1]\n",
    "FN = cm[1][0]\n",
    "FP = cm[0][1]\n",
    "#Print the confusion matrix\n",
    "print(cm)\n",
    "sns.heatmap(cm, annot=True, fmt='d', cmap='Blues', cbar=False, xticklabels=['low', 'high'], yticklabels=['low', 'high'])\n",
    "plt.xlabel('Predicted Values')\n",
    "plt.ylabel('Actual Values')\n",
    "plt.title('Decision Tree: Confusion Matrix')\n",
    "#Print the models accuracy on the test data\n",
    "print('Model Test Accuracy = {}'. format( (TP + TN)/ (TP +TN + FN + FP)  ) )"
   ]
  },
  {
   "cell_type": "code",
   "execution_count": 167,
   "id": "dd545423",
   "metadata": {},
   "outputs": [
    {
     "data": {
      "text/plain": [
       "[82.0, 86.9, 82.0]"
      ]
     },
     "execution_count": 167,
     "metadata": {},
     "output_type": "execute_result"
    },
    {
     "data": {
      "image/png": "[encoded data removed]",
      "text/plain": [
       "<Figure size 432x288 with 1 Axes>"
      ]
     },
     "metadata": {
      "needs_background": "light"
     },
     "output_type": "display_data"
    }
   ],
   "source": [
    "scores=[]\n",
    "scores.append(score1)\n",
    "scores.append(score2)\n",
    "scores.append(score3)\n",
    "algo=['Random Forest','KNN','Decision Tree']\n",
    "sns.barplot(algo, scores,palette=\"Blues\")\n",
    "\n",
    "plt.xlabel(\"Algorithm\")\n",
    "plt.ylabel(\"Accuracy Score\")\n",
    "scores"
   ]
  },
  {
   "cell_type": "code",
   "execution_count": 168,
   "id": "a407d249",
   "metadata": {},
   "outputs": [
    {
     "name": "stdout",
     "output_type": "stream",
     "text": [
      "Our model's accuracy is 86.9%\n"
     ]
    }
   ],
   "source": [
    "scores.sort()\n",
    "if(score1==scores[2]):\n",
    "  our_model=forest\n",
    "elif(score2==scores[2]):\n",
    "  our_model=knn\n",
    "else:\n",
    "  our_model=tree\n",
    "#Train the tree model so that it learns patterns\n",
    "our_model.fit(X_train, Y_train)\n",
    "#prediction\n",
    "prediction = our_model.predict(X_test) \n",
    "#Test the model's accuracy on the training data set\n",
    "our_model.score(X_train,Y_train)\n",
    "#Test and print the models accuracy on the test data set\n",
    "score = round(our_model.score(X_test, Y_test), 3) *100\n",
    "print(f\"Our model's accuracy is {score}%\") "
   ]
  },
  {
   "cell_type": "code",
   "execution_count": 169,
   "id": "1de00b52",
   "metadata": {},
   "outputs": [],
   "source": [
    "import pickle\n",
    "with open('heart.pkl','wb') as f:\n",
    "    pickle.dump(our_model,f)"
   ]
  },
  {
   "cell_type": "code",
   "execution_count": 170,
   "id": "d6d4278f",
   "metadata": {
    "scrolled": true
   },
   "outputs": [
    {
     "data": {
      "text/plain": [
       "array([1], dtype=int64)"
      ]
     },
     "execution_count": 170,
     "metadata": {},
     "output_type": "execute_result"
    }
   ],
   "source": [
    "ourmodel=pickle.load(open('heart.pkl','rb'))\n",
    "prediction=knn.predict([[63, 1, 3, 145, 233, 1, 0, 150, 0, 2.3, 0, 0, 1]])\n",
    "prediction"
   ]
  },
  {
   "cell_type": "code",
   "execution_count": null,
   "id": "60ace5ca",
   "metadata": {},
   "outputs": [],
   "source": []
  }
 ],
 "metadata": {
  "kernelspec": {
   "display_name": "Python 3",
   "language": "python",
   "name": "python3"
  },
  "language_info": {
   "codemirror_mode": {
    "name": "ipython",
    "version": 3
   },
   "file_extension": ".py",
   "mimetype": "text/x-python",
   "name": "python",
   "nbconvert_exporter": "python",
   "pygments_lexer": "ipython3",
   "version": "3.8.8"
  }
 },
 "nbformat": 4,
 "nbformat_minor": 5
}
